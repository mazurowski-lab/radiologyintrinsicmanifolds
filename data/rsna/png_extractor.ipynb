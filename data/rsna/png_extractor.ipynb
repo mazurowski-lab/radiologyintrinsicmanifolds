{
 "cells": [
  {
   "cell_type": "code",
   "execution_count": 1,
   "id": "f7211879-dcbe-4010-8698-6e8f3a0ce5ea",
   "metadata": {},
   "outputs": [],
   "source": [
    "import pandas as pd\n",
    "import os\n",
    "import numpy as np\n",
    "import pydicom\n",
    "from skimage.io import imsave\n",
    "import skimage\n",
    "from tqdm import tqdm"
   ]
  },
  {
   "cell_type": "code",
   "execution_count": 2,
   "id": "0118205f-52bd-4978-ace9-70fff8f03e01",
   "metadata": {},
   "outputs": [],
   "source": [
    "# constants\n",
    "#print(os.listdir(os.getcwd()))\n",
    "data_path = 'stage_2_train'\n",
    "target_png_dir = 'stage_2_train_png'\n",
    "\n",
    "if not os.path.exists(target_png_dir):\n",
    "    os.makedirs(target_png_dir)\n",
    "\n",
    "save_resize = 224"
   ]
  },
  {
   "cell_type": "code",
   "execution_count": 3,
   "id": "1ef88e56-4a92-450d-8da3-fcce04abda0a",
   "metadata": {},
   "outputs": [
    {
     "name": "stderr",
     "output_type": "stream",
     "text": [
      " 74%|████████████████████████▌        | 560655/752803 [04:56<1:17:24, 41.37it/s]/tmp/ipykernel_1362208/2263786750.py:29: UserWarning: stage_2_train_png/ID_8217b6f58.png is a low contrast image\n",
      "  imsave(png_path, img)\n",
      " 76%|█████████████████████████        | 572480/752803 [10:01<1:15:03, 40.04it/s]/tmp/ipykernel_1362208/2263786750.py:29: UserWarning: stage_2_train_png/ID_78fb2a085.png is a low contrast image\n",
      "  imsave(png_path, img)\n",
      " 77%|█████████████████████████▍       | 579608/752803 [13:04<1:15:13, 38.38it/s]/tmp/ipykernel_1362208/2263786750.py:29: UserWarning: stage_2_train_png/ID_0e21abf7a.png is a low contrast image\n",
      "  imsave(png_path, img)\n",
      " 77%|█████████████████████████▍       | 580991/752803 [13:39<1:07:48, 42.23it/s]/tmp/ipykernel_1362208/2263786750.py:29: UserWarning: stage_2_train_png/ID_297cdf0ac.png is a low contrast image\n",
      "  imsave(png_path, img)\n",
      " 82%|████████████████████████████▋      | 616712/752803 [29:01<59:37, 38.04it/s]/tmp/ipykernel_1362208/2263786750.py:29: UserWarning: stage_2_train_png/ID_b24e9a2c8.png is a low contrast image\n",
      "  imsave(png_path, img)\n",
      " 85%|█████████████████████████████▋     | 637280/752803 [37:50<50:08, 38.40it/s]/tmp/ipykernel_1362208/2263786750.py:29: UserWarning: stage_2_train_png/ID_00e5aecc4.png is a low contrast image\n",
      "  imsave(png_path, img)\n",
      " 88%|██████████████████████████████▊    | 662913/752803 [48:50<40:13, 37.24it/s]/tmp/ipykernel_1362208/2263786750.py:29: UserWarning: stage_2_train_png/ID_67af99bf9.png is a low contrast image\n",
      "  imsave(png_path, img)\n",
      " 89%|███████████████████████████████▎   | 673729/752803 [53:28<32:26, 40.61it/s]/tmp/ipykernel_1362208/2263786750.py:29: UserWarning: stage_2_train_png/ID_33e077498.png is a low contrast image\n",
      "  imsave(png_path, img)\n",
      " 90%|███████████████████████████████▍   | 674906/752803 [53:57<33:36, 38.64it/s]/tmp/ipykernel_1362208/2263786750.py:29: UserWarning: stage_2_train_png/ID_0b195a892.png is a low contrast image\n",
      "  imsave(png_path, img)\n",
      " 90%|███████████████████████████████▍   | 675815/752803 [54:21<34:08, 37.58it/s]/tmp/ipykernel_1362208/2263786750.py:29: UserWarning: stage_2_train_png/ID_e5e7a77e0.png is a low contrast image\n",
      "  imsave(png_path, img)\n",
      " 90%|███████████████████████████████▍   | 676307/752803 [54:33<32:33, 39.16it/s]/tmp/ipykernel_1362208/2263786750.py:29: UserWarning: stage_2_train_png/ID_2b0a3633c.png is a low contrast image\n",
      "  imsave(png_path, img)\n",
      " 95%|███████████████████████████████▎ | 714128/752803 [1:10:46<17:03, 37.78it/s]/tmp/ipykernel_1362208/2263786750.py:29: UserWarning: stage_2_train_png/ID_f241d893c.png is a low contrast image\n",
      "  imsave(png_path, img)\n",
      " 98%|████████████████████████████████▎| 736069/752803 [1:20:10<07:10, 38.86it/s]/tmp/ipykernel_1362208/2263786750.py:29: UserWarning: stage_2_train_png/ID_7ca312436.png is a low contrast image\n",
      "  imsave(png_path, img)\n",
      "100%|████████████████████████████████▊| 749215/752803 [1:25:49<01:31, 39.05it/s]/tmp/ipykernel_1362208/2263786750.py:29: UserWarning: stage_2_train_png/ID_c92fbeec4.png is a low contrast image\n",
      "  imsave(png_path, img)\n",
      "100%|████████████████████████████████| 752803/752803 [1:27:21<00:00, 143.61it/s]\n"
     ]
    }
   ],
   "source": [
    "for dcm_fname in tqdm(os.listdir(data_path)):\n",
    "    if dcm_fname.endswith('.dcm'):\n",
    "        try:\n",
    "            png_path = dcm_fname.replace('.dcm', '.png')\n",
    "            png_path = os.path.join(target_png_dir, png_path)\n",
    "\n",
    "            if not os.path.exists(png_path):\n",
    "                # load dcm\n",
    "                obj = pydicom.dcmread(os.path.join(data_path, dcm_fname))\n",
    "\n",
    "                if obj.PixelSpacing[0] != obj.PixelSpacing[1]:\n",
    "                    raise UserWarning(\"Different spacing {} \".format(obj.PixelSpacing))\n",
    "                img = obj.pixel_array\n",
    "                # print(img.shape)\n",
    "                img_type = obj.PhotometricInterpretation\n",
    "\n",
    "                # print(img)\n",
    "\n",
    "                # uint16 -> float, scaled properly for uint8\n",
    "                img = img.astype(float) * 255. / img.max()\n",
    "                # resize to size I will use for experiments\n",
    "                img = skimage.transform.resize(img, (save_resize, save_resize))\n",
    "                # float -> uint8\n",
    "                img = img.astype(np.uint8)\n",
    "                # print(img)\n",
    "                if img_type == \"MONOCHROME1\":\n",
    "                    img = np.invert(img)\n",
    "\n",
    "                imsave(png_path, img)\n",
    "            \n",
    "        except ValueError:\n",
    "            continue"
   ]
  },
  {
   "cell_type": "code",
   "execution_count": null,
   "id": "25618e42-2253-4eac-bbbf-e6822da8409f",
   "metadata": {},
   "outputs": [],
   "source": []
  }
 ],
 "metadata": {
  "kernelspec": {
   "display_name": "Python 3 (ipykernel)",
   "language": "python",
   "name": "python3"
  },
  "language_info": {
   "codemirror_mode": {
    "name": "ipython",
    "version": 3
   },
   "file_extension": ".py",
   "mimetype": "text/x-python",
   "name": "python",
   "nbconvert_exporter": "python",
   "pygments_lexer": "ipython3",
   "version": "3.8.10"
  }
 },
 "nbformat": 4,
 "nbformat_minor": 5
}
