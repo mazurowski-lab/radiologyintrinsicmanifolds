{
 "cells": [
  {
   "cell_type": "code",
   "execution_count": 32,
   "id": "f7211879-dcbe-4010-8698-6e8f3a0ce5ea",
   "metadata": {},
   "outputs": [],
   "source": [
    "import pandas as pd\n",
    "import os\n",
    "import numpy as np\n",
    "import pydicom\n",
    "from skimage.io import imsave\n",
    "import skimage\n",
    "from tqdm import tqdm"
   ]
  },
  {
   "cell_type": "code",
   "execution_count": 33,
   "id": "0118205f-52bd-4978-ace9-70fff8f03e01",
   "metadata": {},
   "outputs": [],
   "source": [
    "# constants\n",
    "#print(os.listdir(os.getcwd()))\n",
    "data_path = 'Prostate-MRI-US-Biopsy'\n",
    "target_png_dir = 'train_png'\n",
    "if not os.path.exists(target_png_dir):\n",
    "    os.makedirs(target_png_dir)\n",
    "\n",
    "label_df = pd.read_csv('Target Data_2019-12-05.csv')\n",
    "# display(label_df)\n",
    "\n",
    "save_resize = 224"
   ]
  },
  {
   "cell_type": "code",
   "execution_count": 35,
   "id": "1ef88e56-4a92-450d-8da3-fcce04abda0a",
   "metadata": {},
   "outputs": [
    {
     "name": "stderr",
     "output_type": "stream",
     "text": [
      "100%|███████████████████████████████████████| 1621/1621 [49:57<00:00,  1.85s/it]\n"
     ]
    }
   ],
   "source": [
    "# dcm_names = []\n",
    "\n",
    "# with default labeling, need at least 30 slices per volume \n",
    "# to reach required dataset size\n",
    "for row_idx, row in tqdm(label_df.iterrows(), total=len(label_df)):\n",
    "    patient_id = row['Patient ID']\n",
    "    # found_ct = 0\n",
    "    # find dicom for this row\n",
    "    if found_ct == 0:\n",
    "        for root, dirs, files in os.walk(os.path.join(data_path, patient_id), topdown=False):\n",
    "            for name in files:\n",
    "                full_name = os.path.join(root, name)\n",
    "                if row['seriesInstanceUID_US'] in full_name:\n",
    "                    # save pngs in dir according to score\n",
    "                    score = str(row['UCLA Score (Similar to PIRADS v2)'])\n",
    "                    png_out_dir = os.path.join(target_png_dir, score)\n",
    "                    if not os.path.exists(png_out_dir):\n",
    "                        os.makedirs(png_out_dir)\n",
    "                    \n",
    "                    # load dicom and extract slices from central\n",
    "                    # half region\n",
    "                    obj = pydicom.dcmread(full_name)\n",
    "                    dcm_arr = obj.pixel_array\n",
    "                    img_type = obj.PhotometricInterpretation\n",
    "                    total_slices = dcm_arr.shape[0]\n",
    "                    \n",
    "                    # save each slice as png\n",
    "                    for sample_slice in range(total_slices // 4, (3 * total_slices) // 4):\n",
    "                        img = dcm_arr[sample_slice]\n",
    "                        \n",
    "                        # uint16 -> float, scaled properly for uint8\n",
    "                        img = img.astype(float) * 255. / img.max()\n",
    "                        # resize to size I will use for experiments\n",
    "                        img = skimage.transform.resize(img, (save_resize, save_resize))\n",
    "                        # float -> uint8\n",
    "                        img = img.astype(np.uint8)\n",
    "                        \n",
    "                        if img_type == \"MONOCHROME1\":\n",
    "                            img = np.invert(img)\n",
    "\n",
    "                        # print(dcm_arr.shape)\n",
    "                        png_path = '{}_{}.png'.format(row_idx, sample_slice)\n",
    "                        png_path = os.path.join(png_out_dir, png_path)\n",
    "\n",
    "                        imsave(png_path, img)"
   ]
  },
  {
   "cell_type": "code",
   "execution_count": null,
   "id": "25618e42-2253-4eac-bbbf-e6822da8409f",
   "metadata": {},
   "outputs": [],
   "source": []
  }
 ],
 "metadata": {
  "kernelspec": {
   "display_name": "Python 3 (ipykernel)",
   "language": "python",
   "name": "python3"
  },
  "language_info": {
   "codemirror_mode": {
    "name": "ipython",
    "version": 3
   },
   "file_extension": ".py",
   "mimetype": "text/x-python",
   "name": "python",
   "nbconvert_exporter": "python",
   "pygments_lexer": "ipython3",
   "version": "3.9.1"
  }
 },
 "nbformat": 4,
 "nbformat_minor": 5
}
