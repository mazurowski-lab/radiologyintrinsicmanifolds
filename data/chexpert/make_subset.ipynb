{
 "cells": [
  {
   "cell_type": "code",
   "execution_count": 1,
   "id": "75bb1670-5f07-4eed-93be-25570fb0d343",
   "metadata": {},
   "outputs": [],
   "source": [
    "\"\"\"\n",
    "extract subset of sufficient size of Pleural Effusion positive or negative cases\n",
    "from chexpert\n",
    "\"\"\"\n",
    "import numpy as np\n",
    "import pandas as pd\n",
    "import os\n",
    "import shutil\n",
    "import tqdm"
   ]
  },
  {
   "cell_type": "code",
   "execution_count": 2,
   "id": "2a8658fc-0f76-42a3-acc7-0dfe9961e7c0",
   "metadata": {},
   "outputs": [],
   "source": [
    "def main():\n",
    "    # make extra just to be safe\n",
    "    N_case = 10000\n",
    "\n",
    "    # number of cases per class\n",
    "    csv_path = 'train.csv'\n",
    "    df = pd.read_csv(csv_path)\n",
    "    #print(df)\n",
    "    df_pos = df[df['Pleural Effusion'] == 1]\n",
    "    df_neg = df[(df['Pleural Effusion'] == -1) | (df['Pleural Effusion'].isna())]\n",
    "    #https://github.com/stanfordmlgroup/chexpert-labeler/issues/9\n",
    "    #print(df_pos)\n",
    "    #print('\\n\\n\\n')\n",
    "    #print(df_neg)\n",
    "    df_pos_subset = df_pos.sample(N_case)\n",
    "    df_neg_subset = df_neg.sample(N_case)\n",
    "\n",
    "    df_subset = pd.concat([df_pos_subset, df_neg_subset])\n",
    "    print(df_subset)\n",
    "\n",
    "    # save new pathnames of files\n",
    "    df_subset['New Path'] = df_subset['Path'].apply(lambda row: row.replace('/', '_'))\n",
    "    # save subset csv\n",
    "    df_subset.to_csv('train_subset.csv', index=False)\n",
    "\n",
    "\n",
    "    # copy imgs\n",
    "    img_dir = 'subset/train'\n",
    "    if not os.path.exists(imgs_dir):\n",
    "        os.makedirs(img_dir)\n",
    "    for idx, row in df_subset.iterrows():\n",
    "        fname = row['Path']\n",
    "        fname = fname.replace('CheXpert-v1.0/', '')\n",
    "        print(fname)\n",
    "\n",
    "        # copy over\n",
    "        img_path = os.path.join(img_dir, row['New Path'])\n",
    "        shutil.copy(fname, img_path)"
   ]
  },
  {
   "cell_type": "code",
   "execution_count": null,
   "id": "6bdcc0d3-86d6-4e90-b787-d48678cec51a",
   "metadata": {},
   "outputs": [],
   "source": [
    "main()"
   ]
  }
 ],
 "metadata": {
  "kernelspec": {
   "display_name": "Python 3 (ipykernel)",
   "language": "python",
   "name": "python3"
  },
  "language_info": {
   "codemirror_mode": {
    "name": "ipython",
    "version": 3
   },
   "file_extension": ".py",
   "mimetype": "text/x-python",
   "name": "python",
   "nbconvert_exporter": "python",
   "pygments_lexer": "ipython3",
   "version": "3.8.10"
  }
 },
 "nbformat": 4,
 "nbformat_minor": 5
}
