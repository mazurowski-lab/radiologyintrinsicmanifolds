{
 "cells": [
  {
   "cell_type": "code",
   "execution_count": 1,
   "id": "75bb1670-5f07-4eed-93be-25570fb0d343",
   "metadata": {},
   "outputs": [],
   "source": [
    "\"\"\"\n",
    "extract subset of sufficient size dbc positive or negative cases\n",
    "\"\"\"\n",
    "import numpy as np\n",
    "import pandas as pd\n",
    "import os\n",
    "import shutil\n",
    "from random import sample\n",
    "from tqdm import tqdm"
   ]
  },
  {
   "cell_type": "code",
   "execution_count": 2,
   "id": "2a8658fc-0f76-42a3-acc7-0dfe9961e7c0",
   "metadata": {},
   "outputs": [],
   "source": [
    "def main():\n",
    "    # make extra just to be safe\n",
    "    N_case = 10000\n",
    "    data_dir = 'png_out'\n",
    "    target_dir = 'png_subset'\n",
    "    \n",
    "    for target_label in ['neg', 'pos']:\n",
    "        case_dir = os.path.join(data_dir, target_label)\n",
    "        \n",
    "        sample_fnames = sample([fname for fname in os.listdir(case_dir) if '.png' in fname], N_case)\n",
    "        for fname in tqdm(sample_fnames):\n",
    "            fpath = os.path.join(case_dir, fname)\n",
    "\n",
    "            # copy over\n",
    "            img_path = os.path.join(target_dir, target_label, fname)\n",
    "            # print(fpath, img_path)\n",
    "            shutil.copy(fpath, img_path)"
   ]
  },
  {
   "cell_type": "code",
   "execution_count": 3,
   "id": "6bdcc0d3-86d6-4e90-b787-d48678cec51a",
   "metadata": {},
   "outputs": [
    {
     "name": "stderr",
     "output_type": "stream",
     "text": [
      "100%|███████████████████████████████████| 10000/10000 [00:09<00:00, 1028.36it/s]\n",
      "100%|████████████████████████████████████| 10000/10000 [00:10<00:00, 954.37it/s]\n"
     ]
    }
   ],
   "source": [
    "main()"
   ]
  },
  {
   "cell_type": "code",
   "execution_count": null,
   "id": "112b463b-0586-41f8-a53a-2490500fb444",
   "metadata": {},
   "outputs": [],
   "source": []
  }
 ],
 "metadata": {
  "kernelspec": {
   "display_name": "Python 3 (ipykernel)",
   "language": "python",
   "name": "python3"
  },
  "language_info": {
   "codemirror_mode": {
    "name": "ipython",
    "version": 3
   },
   "file_extension": ".py",
   "mimetype": "text/x-python",
   "name": "python",
   "nbconvert_exporter": "python",
   "pygments_lexer": "ipython3",
   "version": "3.8.10"
  }
 },
 "nbformat": 4,
 "nbformat_minor": 5
}
