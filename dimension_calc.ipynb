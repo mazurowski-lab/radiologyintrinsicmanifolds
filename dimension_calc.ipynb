{
 "cells": [
  {
   "cell_type": "code",
   "execution_count": null,
   "id": "9bb276d8-cd1b-4974-af15-1fac41f3e159",
   "metadata": {},
   "outputs": [],
   "source": [
    "\"\"\"\n",
    "Compute intrinsic dimension of different datasets\n",
    "\"\"\""
   ]
  },
  {
   "cell_type": "code",
   "execution_count": null,
   "id": "12a2cc8e-409b-407e-b7fa-a458b083fcfb",
   "metadata": {},
   "outputs": [],
   "source": [
    "# environment setup\n",
    "\n",
    "# imports\n",
    "from src.vizutils import *\n",
    "from src.dataset import *\n",
    "from src.utils import *\n",
    "import os\n",
    "import random\n",
    "from tqdm import tqdm\n",
    "\n",
    "# torch\n",
    "import torch\n",
    "\n",
    "# GPUs\n",
    "device_ids = [0] # indices of devices for models, data and otherwise\n",
    "os.environ['CUDA_VISIBLE_DEVICES'] = ','.join(str(i) for i in device_ids)\n",
    "device = torch.device(\"cuda\" if torch.cuda.is_available() else \"cpu\")\n",
    "use_cuda = torch.cuda.is_available()\n",
    "print('running on {}'.format(device))\n",
    "\n",
    "# set random seed\n",
    "seed = 1337\n",
    "random.seed(seed)\n",
    "torch.manual_seed(seed)\n",
    "torch.cuda.manual_seed_all(seed)"
   ]
  },
  {
   "cell_type": "code",
   "execution_count": null,
   "id": "b8fc40d1-a4c3-41ca-8424-308297737268",
   "metadata": {},
   "outputs": [],
   "source": [
    "# load dataset and loader\n",
    "dataset_name =  'prostate'\n",
    "img_size = 224\n",
    "dataset_size = 20000\n",
    "dataset = get_datasets(dataset_name, subset_size=dataset_size, img_size=img_size)#7500)#, img_size=32)\n",
    "dataloader_viz = DataLoader(dataset, batch_size=1, shuffle=True)"
   ]
  },
  {
   "cell_type": "code",
   "execution_count": null,
   "id": "e4211fff-e2b5-461d-a0ac-3b82dc97db50",
   "metadata": {},
   "outputs": [],
   "source": [
    "# logging\n",
    "log_dir = 'logs/dimensionality/{}'.format(dataset_name)\n",
    "if not os.path.exists(log_dir):\n",
    "    os.makedirs(log_dir)\n",
    "logger = Logger('custom', log_dir)\n",
    "logger.write_msg('extrinsic size = {}\\tdataset size = {}'.format(img_size, dataset_size))"
   ]
  },
  {
   "cell_type": "code",
   "execution_count": null,
   "id": "75cd21eb-81b5-4dc5-99c2-9dc14ba4dace",
   "metadata": {},
   "outputs": [],
   "source": [
    "# view some data\n",
    "for batch_idx, (data, target) in enumerate(dataloader_viz):\n",
    "    data = data.to(device)\n",
    "    target = target.to(device)\n",
    "    plot_imgbatch(data)\n",
    "    print(target)\n",
    "    break"
   ]
  },
  {
   "cell_type": "code",
   "execution_count": null,
   "id": "2fd8c776-9b66-4681-885e-2006e6ef1b4b",
   "metadata": {},
   "outputs": [],
   "source": [
    "def estimate_intrinsic_dim(dataset, estimator, batchsize=10024):\n",
    "    \"\"\"\n",
    "    Imports code from https://github.com/ppope/dimensions, unmodified.\n",
    "    \"\"\"\n",
    "    cur_dir = os.getcwd()\n",
    "    os.chdir('dimensions')\n",
    "    \n",
    "    from main import run_mle, run_geomle, run_twonn#, run_shortest_path\n",
    "    from argparse import Namespace\n",
    "    \n",
    "    args = Namespace(\n",
    "        estimator=estimator,\n",
    "        k1=25,\n",
    "        k2=55,# default\n",
    "        single_k=True,\n",
    "        eval_every_k=True,\n",
    "        average_inverse=True,\n",
    "        max_num_samples=1000,\n",
    "        save_path='logs/{}_{}_log.json'.format(dataset_name, estimator),\n",
    "        \n",
    "        # likely will not need to change these from default vals:\n",
    "        anchor_samples=0, # 0 for using all samples from the training set\n",
    "        anchor_ratio=0, # 0 for using all samples from the training set\n",
    "        bsize=batchsize, #batch size for previous images\n",
    "        n_workers=1,\n",
    "        \n",
    "        # GeoMLE args\n",
    "        nb_iter1=1,\n",
    "        nb_iter2=20,\n",
    "        inv_mle=False\n",
    "    )\n",
    "    \n",
    "    \n",
    "    if estimator == \"mle\":\n",
    "        results = run_mle(args, dataset)\n",
    "    else:\n",
    "        raise NotImplementedError\n",
    "        \n",
    "    os.chdir(cur_dir)\n",
    "    return results"
   ]
  },
  {
   "cell_type": "code",
   "execution_count": null,
   "id": "0daac879-ed0b-4d8f-9cbb-f7611f860f3d",
   "metadata": {},
   "outputs": [],
   "source": [
    "estimators = ['mle']\n",
    "for estimator in estimators[:1]:\n",
    "    results = estimate_intrinsic_dim(dataset, estimator, batchsize=10000)\n",
    "    logger.write_msg(str(results))"
   ]
  },
  {
   "cell_type": "code",
   "execution_count": null,
   "id": "bd45bc74-79a8-490e-9f47-5411986109d4",
   "metadata": {},
   "outputs": [],
   "source": []
  }
 ],
 "metadata": {
  "kernelspec": {
   "display_name": "Python 3 (ipykernel)",
   "language": "python",
   "name": "python3"
  },
  "language_info": {
   "codemirror_mode": {
    "name": "ipython",
    "version": 3
   },
   "file_extension": ".py",
   "mimetype": "text/x-python",
   "name": "python",
   "nbconvert_exporter": "python",
   "pygments_lexer": "ipython3",
   "version": "3.8.10"
  }
 },
 "nbformat": 4,
 "nbformat_minor": 5
}
